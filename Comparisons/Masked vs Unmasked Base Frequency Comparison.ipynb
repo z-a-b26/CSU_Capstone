{
 "cells": [
  {
   "cell_type": "code",
   "execution_count": 1,
   "id": "c5d4cf93",
   "metadata": {},
   "outputs": [],
   "source": [
    "import pandas as pd\n",
    "import matplotlib.pyplot as plt\n",
    "import numpy as np\n",
    "import glob\n",
    "import os"
   ]
  },
  {
   "cell_type": "markdown",
   "id": "5ff35ae9",
   "metadata": {},
   "source": [
    "## Retrieve All Masked Samples Reads"
   ]
  },
  {
   "cell_type": "code",
   "execution_count": 6,
   "id": "59f05c20",
   "metadata": {},
   "outputs": [],
   "source": [
    "masked_list = []\n",
    "\n",
    "for file in glob.glob(\"*.tsv\"):\n",
    "    filename = os.path.basename(file)\n",
    "    df = pd.read_csv(file, comment  = '#', sep = '\\t')\n",
    "    df['sampleName'] = filename.split('.startsite.tsv')[0]\n",
    "    df = df.drop('MSD_T',1)\n",
    "    df = df.rename(columns=df.iloc[1])\n",
    "    df = df.drop(df.index[0:2],0)\n",
    "    df.set_axis([*df.columns[:-1], 'Sample_Name'], axis=1, inplace=True)\n",
    "    df['Freq'] = df['Freq'].astype('float64')\n",
    "    masked_list.append(df)"
   ]
  },
  {
   "cell_type": "markdown",
   "id": "0119bc08",
   "metadata": {},
   "source": [
    "## Retrieve All Unmasked Sample Reads"
   ]
  },
  {
   "cell_type": "code",
   "execution_count": 7,
   "id": "d5583804",
   "metadata": {},
   "outputs": [],
   "source": [
    "unmasked_list = []\n",
    "\n",
    "for file in glob.glob('**/*.tsv'):\n",
    "    filename = os.path.basename(file)\n",
    "    df = pd.read_csv(file, comment  = '#', sep = '\\t')\n",
    "    df['sampleName'] = filename.split('.startsite.tsv')[0]\n",
    "    df = df.drop('MSD_T',1)\n",
    "    df = df.rename(columns=df.iloc[1])\n",
    "    df = df.drop(df.index[0:2],0)\n",
    "    df.set_axis([*df.columns[:-1], 'Sample_Name'], axis=1, inplace=True)\n",
    "    df['Freq'] = df['Freq'].astype('float64')\n",
    "    unmasked_list.append(df)"
   ]
  },
  {
   "cell_type": "code",
   "execution_count": null,
   "id": "19d83f89",
   "metadata": {},
   "outputs": [],
   "source": [
    "for i in masked_list:\n",
    "    masked_list[i]\n",
    "    \n",
    "x = unmasked_list[1].groupby('Base')['Freq'].mean()\n",
    "y = masked_list[1].groupby('Base')['Freq'].mean()\n",
    "x = x.to_frame()\n",
    "y = y.to_frame()\n",
    "x.reset_index(inplace = True)\n",
    "y.reset_index(inplace = True)\n",
    "\n",
    "X_axis = np.arange(4)\n",
    "\n",
    "\n",
    "plt.bar(X_axis - 0.2, x['Freq'], 0.4, label = 'Unmasked')\n",
    "plt.bar(X_axis + 0.2, y['Freq'], 0.4, label = 'Masked')"
   ]
  },
  {
   "cell_type": "markdown",
   "id": "bf7bb840",
   "metadata": {},
   "source": [
    "## Concat the lists to make two large dataframes\n",
    "\n",
    "Masked is all the dataframes from masked list, concatenated into one df\n",
    "\n",
    "Same with unmasked"
   ]
  },
  {
   "cell_type": "code",
   "execution_count": 16,
   "id": "698abb0d",
   "metadata": {},
   "outputs": [],
   "source": [
    "masked = pd.concat(masked_list)\n",
    "unmasked = pd.concat(unmasked_list)"
   ]
  },
  {
   "cell_type": "markdown",
   "id": "8c6635ec",
   "metadata": {},
   "source": [
    "## PLOT IT BABY"
   ]
  },
  {
   "cell_type": "code",
   "execution_count": 20,
   "id": "d954d8c4",
   "metadata": {},
   "outputs": [],
   "source": [
    "mask = masked.groupby('Base')['Freq'].mean()\n",
    "unmask = unmasked.groupby('Base')['Freq'].mean()\n",
    "\n",
    "mask = mask.to_frame()\n",
    "unmask = unmask.to_frame()\n",
    "\n",
    "mask.reset_index(inplace = True)\n",
    "unmask.reset_index(inplace = True)"
   ]
  },
  {
   "cell_type": "code",
   "execution_count": 24,
   "id": "1ac043c8",
   "metadata": {},
   "outputs": [
    {
     "data": {
      "text/plain": [
       "<matplotlib.legend.Legend at 0x7f1725797c50>"
      ]
     },
     "execution_count": 24,
     "metadata": {},
     "output_type": "execute_result"
    },
    {
     "data": {
      "image/png": "[encoded data removed]",
      "text/plain": [
       "<Figure size 432x288 with 1 Axes>"
      ]
     },
     "metadata": {
      "needs_background": "light"
     },
     "output_type": "display_data"
    }
   ],
   "source": [
    "x_axis = np.arange(4)\n",
    "\n",
    "plt.bar(x_axis - 0.2, mask['Freq'], 0.4, label = 'Masked', color = 'lightcoral')\n",
    "plt.bar(x_axis + 0.2, unmask['Freq'], 0.4, label = 'Unmasked', color = 'deepskyblue')\n",
    "plt.xticks(x_axis, mask['Base'])\n",
    "plt.xlabel(\"Base\")\n",
    "plt.ylabel(\"Base Frequency\")\n",
    "plt.title(\"Base Frequency (Masked vs Unmasked)\")\n",
    "plt.legend()"
   ]
  },
  {
   "cell_type": "code",
   "execution_count": null,
   "id": "12f73a1b",
   "metadata": {},
   "outputs": [],
   "source": []
  }
 ],
 "metadata": {
  "kernelspec": {
   "display_name": "Python 3",
   "language": "python",
   "name": "python3"
  },
  "language_info": {
   "codemirror_mode": {
    "name": "ipython",
    "version": 3
   },
   "file_extension": ".py",
   "mimetype": "text/x-python",
   "name": "python",
   "nbconvert_exporter": "python",
   "pygments_lexer": "ipython3",
   "version": "3.6.9"
  }
 },
 "nbformat": 4,
 "nbformat_minor": 5
}
